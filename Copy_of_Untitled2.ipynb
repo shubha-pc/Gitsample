{
  "nbformat": 4,
  "nbformat_minor": 0,
  "metadata": {
    "colab": {
      "name": "Copy of Untitled2.ipynb",
      "provenance": [],
      "authorship_tag": "ABX9TyO855h1kUG/UMe/84mtnXmN",
      "include_colab_link": true
    },
    "kernelspec": {
      "name": "python3",
      "display_name": "Python 3"
    }
  },
  "cells": [
    {
      "cell_type": "markdown",
      "metadata": {
        "id": "view-in-github",
        "colab_type": "text"
      },
      "source": [
        "<a href=\"https://colab.research.google.com/github/shubha-pc/Gitsample/blob/master/Copy_of_Untitled2.ipynb\" target=\"_parent\"><img src=\"https://colab.research.google.com/assets/colab-badge.svg\" alt=\"Open In Colab\"/></a>"
      ]
    },
    {
      "cell_type": "code",
      "metadata": {
        "colab": {
          "base_uri": "https://localhost:8080/"
        },
        "id": "hZZQCNi3ExM6",
        "outputId": "7ff45c8a-25ac-4e47-c19e-cdcc4bdccf80"
      },
      "source": [
        "x = set(\"A Python Tutorial\")\r\n",
        "x"
      ],
      "execution_count": null,
      "outputs": [
        {
          "output_type": "execute_result",
          "data": {
            "text/plain": [
              "{' ', 'A', 'P', 'T', 'a', 'h', 'i', 'l', 'n', 'o', 'r', 't', 'u', 'y'}"
            ]
          },
          "metadata": {
            "tags": []
          },
          "execution_count": 1
        }
      ]
    },
    {
      "cell_type": "code",
      "metadata": {
        "colab": {
          "base_uri": "https://localhost:8080/"
        },
        "id": "sOXO3yl2FP7a",
        "outputId": "aaa04d50-6da8-448f-f75e-681ee2352b9b"
      },
      "source": [
        "x = set([\"Perl\", \"Python\", \"Java\"])\r\n",
        "x"
      ],
      "execution_count": null,
      "outputs": [
        {
          "output_type": "execute_result",
          "data": {
            "text/plain": [
              "{'Java', 'Perl', 'Python'}"
            ]
          },
          "metadata": {
            "tags": []
          },
          "execution_count": 3
        }
      ]
    },
    {
      "cell_type": "code",
      "metadata": {
        "colab": {
          "base_uri": "https://localhost:8080/"
        },
        "id": "XZC0qN_8GGyN",
        "outputId": "bc06c6d3-7b84-4da3-a1eb-48611fdc0289"
      },
      "source": [
        "cities = set(((\"Python\",\"Perl\"), (\"Paris\", \"Berlin\", \"London\")))\r\n",
        "\r\n",
        "cities"
      ],
      "execution_count": null,
      "outputs": [
        {
          "output_type": "execute_result",
          "data": {
            "text/plain": [
              "{('Paris', 'Berlin', 'London'), ('Python', 'Perl')}"
            ]
          },
          "metadata": {
            "tags": []
          },
          "execution_count": 5
        }
      ]
    },
    {
      "cell_type": "code",
      "metadata": {
        "colab": {
          "base_uri": "https://localhost:8080/"
        },
        "id": "D7ccZJ0lGvGl",
        "outputId": "8371f32b-f73f-42e6-bca7-b9ec5000b681"
      },
      "source": [
        "cities = set([\"Frankfurt\", \"Basel\",\"Freiburg\"])\r\n",
        "cities.add(\"Strasbourg\")\r\n",
        "cities"
      ],
      "execution_count": 5,
      "outputs": [
        {
          "output_type": "execute_result",
          "data": {
            "text/plain": [
              "{'Basel', 'Frankfurt', 'Freiburg', 'Strasbourg'}"
            ]
          },
          "metadata": {
            "tags": []
          },
          "execution_count": 5
        }
      ]
    }
  ]
}